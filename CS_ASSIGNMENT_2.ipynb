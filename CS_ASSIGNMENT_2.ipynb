{
  "nbformat": 4,
  "nbformat_minor": 0,
  "metadata": {
    "colab": {
      "provenance": []
    },
    "kernelspec": {
      "name": "python3",
      "display_name": "Python 3"
    },
    "language_info": {
      "name": "python"
    }
  },
  "cells": [
    {
      "cell_type": "code",
      "execution_count": 1,
      "metadata": {
        "colab": {
          "base_uri": "https://localhost:8080/"
        },
        "id": "HyebDXxEGazI",
        "outputId": "68703040-ce7f-43f4-81e5-576be15cd4bf"
      },
      "outputs": [
        {
          "output_type": "stream",
          "name": "stdout",
          "text": [
            "Using Colab cache for faster access to the 'cicids2017-cleaned-and-preprocessed' dataset.\n",
            "Path to dataset files: /kaggle/input/cicids2017-cleaned-and-preprocessed\n"
          ]
        }
      ],
      "source": [
        "import kagglehub\n",
        "\n",
        "# Download latest version\n",
        "path = kagglehub.dataset_download(\"ericanacletoribeiro/cicids2017-cleaned-and-preprocessed\")\n",
        "\n",
        "print(\"Path to dataset files:\", path)"
      ]
    },
    {
      "cell_type": "code",
      "source": [
        "import os\n",
        "\n",
        "dataset_path = \"/kaggle/input/cicids2017-cleaned-and-preprocessed\"\n",
        "print(os.listdir(dataset_path))\n"
      ],
      "metadata": {
        "colab": {
          "base_uri": "https://localhost:8080/"
        },
        "id": "NiLoi5-oGqjY",
        "outputId": "a2010fcd-34de-4f43-86e9-f893476d8291"
      },
      "execution_count": 3,
      "outputs": [
        {
          "output_type": "stream",
          "name": "stdout",
          "text": [
            "['cicids2017_cleaned.csv']\n"
          ]
        }
      ]
    },
    {
      "cell_type": "code",
      "source": [
        "import pandas as pd\n",
        "\n",
        "# Load CSV file\n",
        "file_path = os.path.join(dataset_path, \"cicids2017_cleaned.csv\")\n",
        "df = pd.read_csv(file_path)\n",
        "\n",
        "# Quick look at data\n",
        "df.head()\n",
        "df.info()\n"
      ],
      "metadata": {
        "colab": {
          "base_uri": "https://localhost:8080/"
        },
        "id": "V8yHD_qEGhmf",
        "outputId": "f904ad57-340e-4cf1-a67c-aed3ac6220ef"
      },
      "execution_count": 4,
      "outputs": [
        {
          "output_type": "stream",
          "name": "stdout",
          "text": [
            "<class 'pandas.core.frame.DataFrame'>\n",
            "RangeIndex: 2520751 entries, 0 to 2520750\n",
            "Data columns (total 53 columns):\n",
            " #   Column                       Dtype  \n",
            "---  ------                       -----  \n",
            " 0   Destination Port             int64  \n",
            " 1   Flow Duration                int64  \n",
            " 2   Total Fwd Packets            int64  \n",
            " 3   Total Length of Fwd Packets  int64  \n",
            " 4   Fwd Packet Length Max        int64  \n",
            " 5   Fwd Packet Length Min        int64  \n",
            " 6   Fwd Packet Length Mean       float64\n",
            " 7   Fwd Packet Length Std        float64\n",
            " 8   Bwd Packet Length Max        int64  \n",
            " 9   Bwd Packet Length Min        int64  \n",
            " 10  Bwd Packet Length Mean       float64\n",
            " 11  Bwd Packet Length Std        float64\n",
            " 12  Flow Bytes/s                 float64\n",
            " 13  Flow Packets/s               float64\n",
            " 14  Flow IAT Mean                float64\n",
            " 15  Flow IAT Std                 float64\n",
            " 16  Flow IAT Max                 int64  \n",
            " 17  Flow IAT Min                 int64  \n",
            " 18  Fwd IAT Total                int64  \n",
            " 19  Fwd IAT Mean                 float64\n",
            " 20  Fwd IAT Std                  float64\n",
            " 21  Fwd IAT Max                  int64  \n",
            " 22  Fwd IAT Min                  int64  \n",
            " 23  Bwd IAT Total                int64  \n",
            " 24  Bwd IAT Mean                 float64\n",
            " 25  Bwd IAT Std                  float64\n",
            " 26  Bwd IAT Max                  int64  \n",
            " 27  Bwd IAT Min                  int64  \n",
            " 28  Fwd Header Length            int64  \n",
            " 29  Bwd Header Length            int64  \n",
            " 30  Fwd Packets/s                float64\n",
            " 31  Bwd Packets/s                float64\n",
            " 32  Min Packet Length            int64  \n",
            " 33  Max Packet Length            int64  \n",
            " 34  Packet Length Mean           float64\n",
            " 35  Packet Length Std            float64\n",
            " 36  Packet Length Variance       float64\n",
            " 37  FIN Flag Count               int64  \n",
            " 38  PSH Flag Count               int64  \n",
            " 39  ACK Flag Count               int64  \n",
            " 40  Average Packet Size          float64\n",
            " 41  Subflow Fwd Bytes            int64  \n",
            " 42  Init_Win_bytes_forward       int64  \n",
            " 43  Init_Win_bytes_backward      int64  \n",
            " 44  act_data_pkt_fwd             int64  \n",
            " 45  min_seg_size_forward         int64  \n",
            " 46  Active Mean                  float64\n",
            " 47  Active Max                   int64  \n",
            " 48  Active Min                   int64  \n",
            " 49  Idle Mean                    float64\n",
            " 50  Idle Max                     int64  \n",
            " 51  Idle Min                     int64  \n",
            " 52  Attack Type                  object \n",
            "dtypes: float64(20), int64(32), object(1)\n",
            "memory usage: 1019.3+ MB\n"
          ]
        }
      ]
    },
    {
      "cell_type": "code",
      "source": [
        "print(\"Number of rows and columns:\", df.shape)\n",
        "print(\"Missing values in dataset:\", df.isnull().sum().sum())\n"
      ],
      "metadata": {
        "colab": {
          "base_uri": "https://localhost:8080/"
        },
        "id": "x6_O02loHC73",
        "outputId": "fafe4987-8a0a-4fd7-a471-9676e4433943"
      },
      "execution_count": 5,
      "outputs": [
        {
          "output_type": "stream",
          "name": "stdout",
          "text": [
            "Number of rows and columns: (2520751, 53)\n",
            "Missing values in dataset: 0\n"
          ]
        }
      ]
    },
    {
      "cell_type": "code",
      "source": [
        "print(df.columns)  # See all column names\n",
        "print(df['Attack Type'].value_counts())  # Check attack types\n"
      ],
      "metadata": {
        "colab": {
          "base_uri": "https://localhost:8080/"
        },
        "id": "l7Ou32ZSHGad",
        "outputId": "51a0350a-36c1-4a8f-c7d3-63e6435db6ff"
      },
      "execution_count": 7,
      "outputs": [
        {
          "output_type": "stream",
          "name": "stdout",
          "text": [
            "Index(['Destination Port', 'Flow Duration', 'Total Fwd Packets',\n",
            "       'Total Length of Fwd Packets', 'Fwd Packet Length Max',\n",
            "       'Fwd Packet Length Min', 'Fwd Packet Length Mean',\n",
            "       'Fwd Packet Length Std', 'Bwd Packet Length Max',\n",
            "       'Bwd Packet Length Min', 'Bwd Packet Length Mean',\n",
            "       'Bwd Packet Length Std', 'Flow Bytes/s', 'Flow Packets/s',\n",
            "       'Flow IAT Mean', 'Flow IAT Std', 'Flow IAT Max', 'Flow IAT Min',\n",
            "       'Fwd IAT Total', 'Fwd IAT Mean', 'Fwd IAT Std', 'Fwd IAT Max',\n",
            "       'Fwd IAT Min', 'Bwd IAT Total', 'Bwd IAT Mean', 'Bwd IAT Std',\n",
            "       'Bwd IAT Max', 'Bwd IAT Min', 'Fwd Header Length', 'Bwd Header Length',\n",
            "       'Fwd Packets/s', 'Bwd Packets/s', 'Min Packet Length',\n",
            "       'Max Packet Length', 'Packet Length Mean', 'Packet Length Std',\n",
            "       'Packet Length Variance', 'FIN Flag Count', 'PSH Flag Count',\n",
            "       'ACK Flag Count', 'Average Packet Size', 'Subflow Fwd Bytes',\n",
            "       'Init_Win_bytes_forward', 'Init_Win_bytes_backward', 'act_data_pkt_fwd',\n",
            "       'min_seg_size_forward', 'Active Mean', 'Active Max', 'Active Min',\n",
            "       'Idle Mean', 'Idle Max', 'Idle Min', 'Attack Type'],\n",
            "      dtype='object')\n",
            "Attack Type\n",
            "Normal Traffic    2095057\n",
            "DoS                193745\n",
            "DDoS               128014\n",
            "Port Scanning       90694\n",
            "Brute Force          9150\n",
            "Web Attacks          2143\n",
            "Bots                 1948\n",
            "Name: count, dtype: int64\n"
          ]
        }
      ]
    },
    {
      "cell_type": "code",
      "source": [
        "from sklearn.model_selection import train_test_split\n",
        "from sklearn.preprocessing import StandardScaler, LabelEncoder\n",
        "\n",
        "# Encode attack labels to numbers\n",
        "label_encoder = LabelEncoder()\n",
        "df['Attack Type'] = label_encoder.fit_transform(df['Attack Type'])\n",
        "\n",
        "# Sample a smaller subset for fast training\n",
        "df_sample = df.sample(n=200000, random_state=42)  # sample 200k rows\n",
        "\n",
        "# Split features & labels\n",
        "X = df_sample.drop(columns=['Attack Type'])\n",
        "y = df_sample['Attack Type']\n",
        "\n",
        "# Train-test split\n",
        "X_train, X_test, y_train, y_test = train_test_split(\n",
        "    X, y, test_size=0.2, random_state=42\n",
        ")\n",
        "\n",
        "# Feature scaling\n",
        "scaler = StandardScaler()\n",
        "X_train = scaler.fit_transform(X_train)\n",
        "X_test = scaler.transform(X_test)\n"
      ],
      "metadata": {
        "id": "rwXDaEc_Iz_x"
      },
      "execution_count": 10,
      "outputs": []
    },
    {
      "cell_type": "code",
      "source": [
        "from sklearn.ensemble import RandomForestClassifier\n",
        "from sklearn.metrics import classification_report, confusion_matrix, accuracy_score\n",
        "\n",
        "# Create model\n",
        "rf = RandomForestClassifier(n_estimators=100, random_state=42, n_jobs=-1)\n",
        "\n",
        "# Train model\n",
        "rf.fit(X_train, y_train)\n",
        "\n",
        "# Predictions\n",
        "y_pred = rf.predict(X_test)\n",
        "\n",
        "# Evaluation\n",
        "print(\"Accuracy:\", accuracy_score(y_test, y_pred))\n",
        "print(\"\\nClassification Report:\\n\", classification_report(y_test, y_pred))\n"
      ],
      "metadata": {
        "colab": {
          "base_uri": "https://localhost:8080/"
        },
        "id": "WjGRd1IXKApd",
        "outputId": "faf0422d-4be9-4db6-b915-e32adb607b70"
      },
      "execution_count": 11,
      "outputs": [
        {
          "output_type": "stream",
          "name": "stdout",
          "text": [
            "Accuracy: 0.998325\n",
            "\n",
            "Classification Report:\n",
            "               precision    recall  f1-score   support\n",
            "\n",
            "           0       0.69      0.83      0.75        24\n",
            "           1       1.00      0.99      1.00       146\n",
            "           2       1.00      1.00      1.00      2011\n",
            "           3       1.00      1.00      1.00      3070\n",
            "           4       1.00      1.00      1.00     33234\n",
            "           5       0.99      0.99      0.99      1462\n",
            "           6       1.00      0.94      0.97        53\n",
            "\n",
            "    accuracy                           1.00     40000\n",
            "   macro avg       0.95      0.97      0.96     40000\n",
            "weighted avg       1.00      1.00      1.00     40000\n",
            "\n"
          ]
        }
      ]
    },
    {
      "cell_type": "code",
      "source": [
        "from sklearn.metrics import confusion_matrix\n",
        "import seaborn as sns\n",
        "import matplotlib.pyplot as plt\n",
        "\n",
        "cm = confusion_matrix(y_test, y_pred)\n",
        "plt.figure(figsize=(8,6))\n",
        "sns.heatmap(cm, annot=True, fmt=\"d\", cmap=\"Blues\")\n",
        "plt.xlabel(\"Predicted\")\n",
        "plt.ylabel(\"Actual\")\n",
        "plt.title(\"Confusion Matrix\")\n",
        "plt.show()\n"
      ],
      "metadata": {
        "colab": {
          "base_uri": "https://localhost:8080/",
          "height": 564
        },
        "id": "8u9zN1u2NzCj",
        "outputId": "678f14b4-fd33-4743-c102-ba9c2bd4870d"
      },
      "execution_count": 12,
      "outputs": [
        {
          "output_type": "display_data",
          "data": {
            "text/plain": [
              "<Figure size 800x600 with 2 Axes>"
            ],
            "image/png": "[encoded data removed]"
          },
          "metadata": {}
        }
      ]
    },
    {
      "cell_type": "code",
      "source": [
        "from sklearn.model_selection import train_test_split\n",
        "\n",
        "# Use only 10% of training data for tuning\n",
        "X_small, _, y_small, _ = train_test_split(X_train, y_train, train_size=0.1, random_state=42)\n",
        "print(\"Shape of tuning data:\", X_small.shape)\n"
      ],
      "metadata": {
        "colab": {
          "base_uri": "https://localhost:8080/"
        },
        "id": "526_8egwQ8Bx",
        "outputId": "944d762e-701e-428b-dcdc-d13665c10de4"
      },
      "execution_count": 14,
      "outputs": [
        {
          "output_type": "stream",
          "name": "stdout",
          "text": [
            "Shape of tuning data: (16000, 52)\n"
          ]
        }
      ]
    },
    {
      "cell_type": "code",
      "source": [
        "from sklearn.model_selection import RandomizedSearchCV\n",
        "from sklearn.ensemble import RandomForestClassifier\n",
        "import numpy as np\n",
        "\n",
        "param_dist = {\n",
        "    'n_estimators': [50, 100, 200],\n",
        "    'max_depth': [10, 20, 30],\n",
        "    'min_samples_split': [2, 5, 10],\n",
        "    'min_samples_leaf': [1, 2, 4]\n",
        "}\n",
        "\n",
        "random_search = RandomizedSearchCV(\n",
        "    RandomForestClassifier(random_state=42),\n",
        "    param_distributions=param_dist,\n",
        "    n_iter=10,   # Try 10 random combinations\n",
        "    cv=2,        # Use fewer folds for speed\n",
        "    verbose=2,\n",
        "    n_jobs=-1,\n",
        "    random_state=42\n",
        ")\n",
        "\n",
        "random_search.fit(X_small, y_small)\n",
        "\n",
        "print(\"Best parameters:\", random_search.best_params_)\n",
        "best_rf = random_search.best_estimator_\n"
      ],
      "metadata": {
        "colab": {
          "base_uri": "https://localhost:8080/"
        },
        "id": "sdIJgEp4N-ln",
        "outputId": "4ad6866d-2956-4f95-8b96-6b43218b0bac"
      },
      "execution_count": 15,
      "outputs": [
        {
          "output_type": "stream",
          "name": "stdout",
          "text": [
            "Fitting 2 folds for each of 10 candidates, totalling 20 fits\n",
            "Best parameters: {'n_estimators': 100, 'min_samples_split': 5, 'min_samples_leaf': 1, 'max_depth': 20}\n"
          ]
        }
      ]
    },
    {
      "cell_type": "code",
      "source": [
        "best_rf.fit(X_train, y_train)\n",
        "y_pred = best_rf.predict(X_test)\n"
      ],
      "metadata": {
        "id": "kp4amo4mRV2T"
      },
      "execution_count": 16,
      "outputs": []
    },
    {
      "cell_type": "code",
      "source": [
        "from sklearn.metrics import accuracy_score, classification_report\n",
        "\n",
        "print(\"Accuracy:\", accuracy_score(y_test, y_pred))\n",
        "print(\"\\nClassification Report:\\n\", classification_report(y_test, y_pred))\n"
      ],
      "metadata": {
        "colab": {
          "base_uri": "https://localhost:8080/"
        },
        "id": "uapkdmoeb1Y9",
        "outputId": "7929dd3b-ecc7-4c4c-fd1e-2e80ea2cb16c"
      },
      "execution_count": 17,
      "outputs": [
        {
          "output_type": "stream",
          "name": "stdout",
          "text": [
            "Accuracy: 0.99835\n",
            "\n",
            "Classification Report:\n",
            "               precision    recall  f1-score   support\n",
            "\n",
            "           0       0.62      0.54      0.58        24\n",
            "           1       1.00      0.99      1.00       146\n",
            "           2       1.00      1.00      1.00      2011\n",
            "           3       1.00      0.99      1.00      3070\n",
            "           4       1.00      1.00      1.00     33234\n",
            "           5       0.99      1.00      0.99      1462\n",
            "           6       0.98      0.89      0.93        53\n",
            "\n",
            "    accuracy                           1.00     40000\n",
            "   macro avg       0.94      0.92      0.93     40000\n",
            "weighted avg       1.00      1.00      1.00     40000\n",
            "\n"
          ]
        }
      ]
    },
    {
      "cell_type": "code",
      "source": [
        "import joblib\n",
        "\n",
        "# Save the model and scaler\n",
        "joblib.dump(best_rf, \"rf_cybersecurity_model.pkl\")\n",
        "joblib.dump(scaler, \"scaler.pkl\")\n",
        "print(\"✅ Model and scaler saved successfully!\")\n"
      ],
      "metadata": {
        "colab": {
          "base_uri": "https://localhost:8080/"
        },
        "id": "bnC_Wa6rfJ3V",
        "outputId": "26887864-f2a9-4c4b-aa03-871300633035"
      },
      "execution_count": 18,
      "outputs": [
        {
          "output_type": "stream",
          "name": "stdout",
          "text": [
            "✅ Model and scaler saved successfully!\n"
          ]
        }
      ]
    },
    {
      "cell_type": "code",
      "source": [
        "import time\n",
        "import numpy as np\n",
        "\n",
        "# Load the saved model\n",
        "model = joblib.load(\"rf_cybersecurity_model.pkl\")\n",
        "scaler = joblib.load(\"scaler.pkl\")\n",
        "\n",
        "# Simulate real-time streaming\n",
        "def simulate_real_time_detection(X_test, y_test, delay=0.5):\n",
        "    for i in range(20):  # simulate first 20 packets\n",
        "        data_point = X_test[i].reshape(1, -1)\n",
        "        prediction = model.predict(data_point)[0]\n",
        "        attack_type = label_encoder.inverse_transform([prediction])[0]\n",
        "\n",
        "        print(f\"🔹 Incoming Packet #{i+1}: Predicted - {attack_type}\")\n",
        "\n",
        "        # Simple automatic response\n",
        "        if attack_type != \"BENIGN\":\n",
        "            print(f\"🚨 Alert! Possible Attack Detected: {attack_type}\")\n",
        "\n",
        "        time.sleep(delay)  # simulate real-time delay\n",
        "\n",
        "simulate_real_time_detection(X_test, y_test)\n"
      ],
      "metadata": {
        "colab": {
          "base_uri": "https://localhost:8080/"
        },
        "id": "BcsRDqRwfOOU",
        "outputId": "6b56507e-9247-4756-f775-b313ba6fae0e"
      },
      "execution_count": 19,
      "outputs": [
        {
          "output_type": "stream",
          "name": "stdout",
          "text": [
            "🔹 Incoming Packet #1: Predicted - 4\n",
            "🚨 Alert! Possible Attack Detected: 4\n",
            "🔹 Incoming Packet #2: Predicted - 4\n",
            "🚨 Alert! Possible Attack Detected: 4\n",
            "🔹 Incoming Packet #3: Predicted - 4\n",
            "🚨 Alert! Possible Attack Detected: 4\n",
            "🔹 Incoming Packet #4: Predicted - 4\n",
            "🚨 Alert! Possible Attack Detected: 4\n",
            "🔹 Incoming Packet #5: Predicted - 4\n",
            "🚨 Alert! Possible Attack Detected: 4\n",
            "🔹 Incoming Packet #6: Predicted - 3\n",
            "🚨 Alert! Possible Attack Detected: 3\n",
            "🔹 Incoming Packet #7: Predicted - 4\n",
            "🚨 Alert! Possible Attack Detected: 4\n",
            "🔹 Incoming Packet #8: Predicted - 4\n",
            "🚨 Alert! Possible Attack Detected: 4\n",
            "🔹 Incoming Packet #9: Predicted - 4\n",
            "🚨 Alert! Possible Attack Detected: 4\n",
            "🔹 Incoming Packet #10: Predicted - 4\n",
            "🚨 Alert! Possible Attack Detected: 4\n",
            "🔹 Incoming Packet #11: Predicted - 4\n",
            "🚨 Alert! Possible Attack Detected: 4\n",
            "🔹 Incoming Packet #12: Predicted - 4\n",
            "🚨 Alert! Possible Attack Detected: 4\n",
            "🔹 Incoming Packet #13: Predicted - 2\n",
            "🚨 Alert! Possible Attack Detected: 2\n",
            "🔹 Incoming Packet #14: Predicted - 4\n",
            "🚨 Alert! Possible Attack Detected: 4\n",
            "🔹 Incoming Packet #15: Predicted - 4\n",
            "🚨 Alert! Possible Attack Detected: 4\n",
            "🔹 Incoming Packet #16: Predicted - 4\n",
            "🚨 Alert! Possible Attack Detected: 4\n",
            "🔹 Incoming Packet #17: Predicted - 4\n",
            "🚨 Alert! Possible Attack Detected: 4\n",
            "🔹 Incoming Packet #18: Predicted - 4\n",
            "🚨 Alert! Possible Attack Detected: 4\n",
            "🔹 Incoming Packet #19: Predicted - 4\n",
            "🚨 Alert! Possible Attack Detected: 4\n",
            "🔹 Incoming Packet #20: Predicted - 5\n",
            "🚨 Alert! Possible Attack Detected: 5\n"
          ]
        }
      ]
    },
    {
      "cell_type": "code",
      "source": [
        "# ✅ STEP 1: Save trained model and scaler\n",
        "import joblib\n",
        "\n",
        "# Save the tuned model and scaler\n",
        "joblib.dump(best_rf, \"rf_cybersecurity_model.pkl\")\n",
        "joblib.dump(scaler, \"scaler.pkl\")\n",
        "print(\"✅ Model and scaler saved successfully!\")\n"
      ],
      "metadata": {
        "colab": {
          "base_uri": "https://localhost:8080/"
        },
        "id": "DF7M7hZ9f0uE",
        "outputId": "ed87cdae-add0-4238-eae2-2f6671282deb"
      },
      "execution_count": 22,
      "outputs": [
        {
          "output_type": "stream",
          "name": "stdout",
          "text": [
            "✅ Model and scaler saved successfully!\n"
          ]
        }
      ]
    },
    {
      "cell_type": "code",
      "source": [
        "# ✅ STEP 2: Load model for real-time prediction\n",
        "import joblib\n",
        "import time\n",
        "import numpy as np\n",
        "\n",
        "# Load the saved model & scaler\n",
        "model = joblib.load(\"rf_cybersecurity_model.pkl\")\n",
        "scaler = joblib.load(\"scaler.pkl\")\n",
        "\n",
        "# Real-time threat detection simulation\n",
        "def simulate_real_time_detection(X_test, y_test, label_encoder, delay=0.5):\n",
        "    print(\"🚀 Starting Real-Time Threat Detection Simulation...\\n\")\n",
        "    for i in range(20):  # Simulate 20 incoming packets\n",
        "        data_point = X_test[i].reshape(1, -1)\n",
        "        prediction = model.predict(data_point)[0]\n",
        "        attack_type = label_encoder.inverse_transform([prediction])[0]\n",
        "\n",
        "        print(f\"🔹 Packet #{i+1}: Predicted - {attack_type}\")\n",
        "\n",
        "        # Simple rule-based response\n",
        "        if attack_type != \"BENIGN\":\n",
        "            print(f\"🚨 ALERT! Suspicious activity detected: {attack_type}\\n\")\n",
        "        else:\n",
        "            print(\"✅ Safe packet detected.\\n\")\n",
        "\n",
        "        time.sleep(delay)  # Simulate time delay between packets\n",
        "\n",
        "    print(\"✅ Simulation completed.\")\n",
        "\n",
        "# Run simulation\n",
        "simulate_real_time_detection(X_test, y_test, label_encoder)\n"
      ],
      "metadata": {
        "colab": {
          "base_uri": "https://localhost:8080/"
        },
        "id": "OG4nj7OZf3fK",
        "outputId": "cec8b445-ce45-41f4-b857-32c2c73dca24"
      },
      "execution_count": 23,
      "outputs": [
        {
          "output_type": "stream",
          "name": "stdout",
          "text": [
            "🚀 Starting Real-Time Threat Detection Simulation...\n",
            "\n",
            "🔹 Packet #1: Predicted - 4\n",
            "🚨 ALERT! Suspicious activity detected: 4\n",
            "\n",
            "🔹 Packet #2: Predicted - 4\n",
            "🚨 ALERT! Suspicious activity detected: 4\n",
            "\n",
            "🔹 Packet #3: Predicted - 4\n",
            "🚨 ALERT! Suspicious activity detected: 4\n",
            "\n",
            "🔹 Packet #4: Predicted - 4\n",
            "🚨 ALERT! Suspicious activity detected: 4\n",
            "\n",
            "🔹 Packet #5: Predicted - 4\n",
            "🚨 ALERT! Suspicious activity detected: 4\n",
            "\n",
            "🔹 Packet #6: Predicted - 3\n",
            "🚨 ALERT! Suspicious activity detected: 3\n",
            "\n",
            "🔹 Packet #7: Predicted - 4\n",
            "🚨 ALERT! Suspicious activity detected: 4\n",
            "\n",
            "🔹 Packet #8: Predicted - 4\n",
            "🚨 ALERT! Suspicious activity detected: 4\n",
            "\n",
            "🔹 Packet #9: Predicted - 4\n",
            "🚨 ALERT! Suspicious activity detected: 4\n",
            "\n",
            "🔹 Packet #10: Predicted - 4\n",
            "🚨 ALERT! Suspicious activity detected: 4\n",
            "\n",
            "🔹 Packet #11: Predicted - 4\n",
            "🚨 ALERT! Suspicious activity detected: 4\n",
            "\n",
            "🔹 Packet #12: Predicted - 4\n",
            "🚨 ALERT! Suspicious activity detected: 4\n",
            "\n",
            "🔹 Packet #13: Predicted - 2\n",
            "🚨 ALERT! Suspicious activity detected: 2\n",
            "\n",
            "🔹 Packet #14: Predicted - 4\n",
            "🚨 ALERT! Suspicious activity detected: 4\n",
            "\n",
            "🔹 Packet #15: Predicted - 4\n",
            "🚨 ALERT! Suspicious activity detected: 4\n",
            "\n",
            "🔹 Packet #16: Predicted - 4\n",
            "🚨 ALERT! Suspicious activity detected: 4\n",
            "\n",
            "🔹 Packet #17: Predicted - 4\n",
            "🚨 ALERT! Suspicious activity detected: 4\n",
            "\n",
            "🔹 Packet #18: Predicted - 4\n",
            "🚨 ALERT! Suspicious activity detected: 4\n",
            "\n",
            "🔹 Packet #19: Predicted - 4\n",
            "🚨 ALERT! Suspicious activity detected: 4\n",
            "\n",
            "🔹 Packet #20: Predicted - 5\n",
            "🚨 ALERT! Suspicious activity detected: 5\n",
            "\n",
            "✅ Simulation completed.\n"
          ]
        }
      ]
    },
    {
      "cell_type": "code",
      "source": [
        "import smtplib\n",
        "\n",
        "def send_email_alert(attack_type):\n",
        "    try:\n",
        "        sender = \"bassasrilakshmi@gmail.com\"\n",
        "        receiver = \"bassasrilakshmi@gmail.com\"\n",
        "        subject = f\"Cyber Threat Alert: {attack_type}\"\n",
        "        body = f\"A {attack_type} attack has been detected. Immediate action required.\"\n",
        "        message = f\"Subject:{subject}\\n\\n{body}\"\n",
        "\n",
        "        with smtplib.SMTP(\"smtp.gmail.com\", 587) as server:\n",
        "            server.starttls()\n",
        "            server.login(sender, \"yweu mqvn nqhs rujk\")  # Use your Google App Password here\n",
        "            server.sendmail(sender, receiver, message)\n",
        "        print(f\"✅ Email sent successfully for attack: {attack_type}\")\n",
        "    except Exception as e:\n",
        "        print(f\"❌ Failed to send email: {e}\")\n"
      ],
      "metadata": {
        "id": "G_U7lHyzt-Mw"
      },
      "execution_count": 25,
      "outputs": []
    },
    {
      "cell_type": "code",
      "source": [
        "send_email_alert(\"TEST_ATTACK\")\n"
      ],
      "metadata": {
        "colab": {
          "base_uri": "https://localhost:8080/"
        },
        "id": "fSyYzDt7vPdm",
        "outputId": "f419a14e-94ed-4ffe-e900-5888b81a5bef"
      },
      "execution_count": 26,
      "outputs": [
        {
          "output_type": "stream",
          "name": "stdout",
          "text": [
            "✅ Email sent successfully for attack: TEST_ATTACK\n"
          ]
        }
      ]
    }
  ]
}